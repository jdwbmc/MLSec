{
 "cells": [
  {
   "cell_type": "markdown",
   "metadata": {},
   "source": [
    "# 4.3\tEmploying Machine Learning in Security in the Real World\n",
    "## 4.3.3\tDeveloping a simple authentication example\n",
    "The first part of securing an API of any type is to enforce some type of authentication. The act of authentication positively identifies the requestor. There are a number of ways to do this. For example, a local application may simply ask for a username and password as shown here."
   ]
  },
  {
   "cell_type": "code",
   "execution_count": 1,
   "metadata": {},
   "outputs": [
    {
     "name": "stdout",
     "output_type": "stream",
     "text": [
      "User Name : jwilliams········\n",
      "Welcome In!\n"
     ]
    }
   ],
   "source": [
    "import getpass\n",
    "\n",
    "user = getpass.getuser()\n",
    "pwd = getpass.getpass(\"User Name : %s\" % user)\n",
    "\n",
    "if not pwd == 'secret':\n",
    "    print('Illegal Entry!')\n",
    "else:\n",
    "    print('Welcome In!')"
   ]
  },
  {
   "cell_type": "code",
   "execution_count": 2,
   "metadata": {},
   "outputs": [
    {
     "name": "stdout",
     "output_type": "stream",
     "text": [
      "<Response [200]>\n"
     ]
    }
   ],
   "source": [
    "import requests\n",
    "from requests.auth import HTTPDigestAuth\n",
    "\n",
    "resource = 'http://localhost:8888/files/MLSec/Chapter04/TestAccess.txt'\n",
    "\n",
    "authenticate = HTTPDigestAuth('user', 'pass')\n",
    "\n",
    "response = requests.get(resource, auth = authenticate)\n",
    "  \n",
    "print(response)"
   ]
  },
  {
   "cell_type": "code",
   "execution_count": 3,
   "metadata": {},
   "outputs": [
    {
     "ename": "TypeError",
     "evalue": "string indices must be integers",
     "output_type": "error",
     "traceback": [
      "\u001b[1;31m---------------------------------------------------------------------------\u001b[0m",
      "\u001b[1;31mTypeError\u001b[0m                                 Traceback (most recent call last)",
      "\u001b[1;32m<ipython-input-3-640d0ba91c39>\u001b[0m in \u001b[0;36m<module>\u001b[1;34m\u001b[0m\n\u001b[0;32m     16\u001b[0m \u001b[1;31m# Output the repo names.\u001b[0m\u001b[1;33m\u001b[0m\u001b[1;33m\u001b[0m\u001b[1;33m\u001b[0m\u001b[0m\n\u001b[0;32m     17\u001b[0m \u001b[1;32mfor\u001b[0m \u001b[0mrepo\u001b[0m \u001b[1;32min\u001b[0m \u001b[0mrepos\u001b[0m\u001b[1;33m:\u001b[0m\u001b[1;33m\u001b[0m\u001b[1;33m\u001b[0m\u001b[0m\n\u001b[1;32m---> 18\u001b[1;33m     \u001b[0mprint\u001b[0m\u001b[1;33m(\u001b[0m\u001b[0mrepo\u001b[0m\u001b[1;33m[\u001b[0m\u001b[1;34m'name'\u001b[0m\u001b[1;33m]\u001b[0m\u001b[1;33m)\u001b[0m\u001b[1;33m\u001b[0m\u001b[1;33m\u001b[0m\u001b[0m\n\u001b[0m",
      "\u001b[1;31mTypeError\u001b[0m: string indices must be integers"
     ]
    }
   ],
   "source": [
    "import requests\n",
    "import json\n",
    "\n",
    "# Obtain the sign-in information.\n",
    "resource = 'https://api.github.com/user/repos'\n",
    "username = 'Your User Name'\n",
    "token = 'The Token You Generated'\n",
    "\n",
    "# Create the reusable session object.\n",
    "session = requests.Session()\n",
    "session.auth = (username, token)\n",
    "\n",
    "# Request the list of repos for this user.\n",
    "repos = json.loads(session.get(resource).text)\n",
    "\n",
    "# Output the repo names.\n",
    "for repo in repos:\n",
    "    print(repo['name'])"
   ]
  },
  {
   "cell_type": "code",
   "execution_count": null,
   "metadata": {},
   "outputs": [],
   "source": []
  }
 ],
 "metadata": {
  "kernelspec": {
   "display_name": "Python 3",
   "language": "python",
   "name": "python3"
  },
  "language_info": {
   "codemirror_mode": {
    "name": "ipython",
    "version": 3
   },
   "file_extension": ".py",
   "mimetype": "text/x-python",
   "name": "python",
   "nbconvert_exporter": "python",
   "pygments_lexer": "ipython3",
   "version": "3.7.10"
  }
 },
 "nbformat": 4,
 "nbformat_minor": 4
}
