{
 "cells": [
  {
   "cell_type": "markdown",
   "metadata": {},
   "source": [
    "# 2.3.1\tHandling missing or corrupted data example\n",
    "## Check for the Missing Data\n",
    "The first task is to check for the missing data. Missing data comes from all sorts of issues, but the result is usually a corrupted or unusable model. Detecting missing data is an essential first check."
   ]
  },
  {
   "cell_type": "code",
   "execution_count": 1,
   "metadata": {},
   "outputs": [
    {
     "name": "stdout",
     "output_type": "stream",
     "text": [
      "0    False\n",
      "1    False\n",
      "2    False\n",
      "3     True\n",
      "4    False\n",
      "5    False\n",
      "6     True\n",
      "7     True\n",
      "8     True\n",
      "dtype: bool\n",
      "\n",
      "3    NaN\n",
      "6    NaN\n",
      "7    inf\n",
      "8   -inf\n",
      "dtype: float64\n"
     ]
    }
   ],
   "source": [
    "import pandas as pd\n",
    "import numpy as np\n",
    "\n",
    "s = pd.Series([1, 2, 3, np.NaN, 5, 6, None, np.inf, -np.inf])\n",
    "\n",
    "## print(s.isnull())\n",
    "print(s.isin([np.NaN, None, np.inf, -np.inf]))\n",
    "\n",
    "print()\n",
    "print(s[s.isin([np.NaN, None, np.inf, -np.inf])])"
   ]
  },
  {
   "cell_type": "markdown",
   "metadata": {},
   "source": [
    "## Replace the missing values."
   ]
  },
  {
   "cell_type": "code",
   "execution_count": 2,
   "metadata": {},
   "outputs": [
    {
     "name": "stdout",
     "output_type": "stream",
     "text": [
      "nan\n",
      "3.4\n"
     ]
    }
   ],
   "source": [
    "replace = s.replace([np.inf, -np.inf], np.NaN)\n",
    "print(s.mean())\n",
    "print(replace.mean())"
   ]
  },
  {
   "cell_type": "code",
   "execution_count": 3,
   "metadata": {},
   "outputs": [
    {
     "name": "stdout",
     "output_type": "stream",
     "text": [
      "0    1.0\n",
      "1    2.0\n",
      "2    3.0\n",
      "3    3.4\n",
      "4    5.0\n",
      "5    6.0\n",
      "6    3.4\n",
      "7    3.4\n",
      "8    3.4\n",
      "dtype: float64\n"
     ]
    }
   ],
   "source": [
    "replace = replace.fillna(replace.mean())\n",
    "print(replace)"
   ]
  },
  {
   "cell_type": "markdown",
   "metadata": {},
   "source": [
    "## Drop the missing values."
   ]
  },
  {
   "cell_type": "code",
   "execution_count": 4,
   "metadata": {},
   "outputs": [
    {
     "name": "stdout",
     "output_type": "stream",
     "text": [
      "0    1.0\n",
      "1    2.0\n",
      "2    3.0\n",
      "4    5.0\n",
      "5    6.0\n",
      "dtype: float64\n"
     ]
    }
   ],
   "source": [
    "dropped = s.replace([np.inf, -np.inf], np.nan).dropna()\n",
    "print(dropped)"
   ]
  },
  {
   "cell_type": "markdown",
   "metadata": {},
   "source": [
    "## Use an Imputer"
   ]
  },
  {
   "cell_type": "code",
   "execution_count": 5,
   "metadata": {},
   "outputs": [
    {
     "name": "stdout",
     "output_type": "stream",
     "text": [
      "0    1.0\n",
      "1    2.0\n",
      "2    3.0\n",
      "3    4.0\n",
      "4    5.0\n",
      "5    6.0\n",
      "6    7.0\n",
      "7    8.0\n",
      "8    9.0\n",
      "dtype: float64\n"
     ]
    }
   ],
   "source": [
    "import pandas as pd\n",
    "import numpy as np\n",
    "from sklearn.impute import SimpleImputer\n",
    "\n",
    "s = pd.Series([1, 2, 3, np.NaN, 5, 6, None, np.inf, -np.inf])\n",
    "s = s.replace([np.inf, -np.inf], np.NaN)\n",
    "\n",
    "imp = SimpleImputer(missing_values=np.NaN, strategy='mean')\n",
    "\n",
    "imp.fit([[1, 2, 3, 4, 5, 6, 7, 8, 9]])\n",
    "\n",
    "s = pd.Series(imp.transform([s]).tolist()[0])\n",
    "\n",
    "print(s)"
   ]
  },
  {
   "cell_type": "code",
   "execution_count": null,
   "metadata": {},
   "outputs": [],
   "source": []
  }
 ],
 "metadata": {
  "kernelspec": {
   "display_name": "Python 3",
   "language": "python",
   "name": "python3"
  },
  "language_info": {
   "codemirror_mode": {
    "name": "ipython",
    "version": 3
   },
   "file_extension": ".py",
   "mimetype": "text/x-python",
   "name": "python",
   "nbconvert_exporter": "python",
   "pygments_lexer": "ipython3",
   "version": "3.8.3"
  }
 },
 "nbformat": 4,
 "nbformat_minor": 4
}
