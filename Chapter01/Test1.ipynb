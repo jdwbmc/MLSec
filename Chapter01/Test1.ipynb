{
 "cells": [
  {
   "cell_type": "code",
   "execution_count": 1,
   "metadata": {},
   "outputs": [
    {
     "ename": "ModuleNotFoundError",
     "evalue": "No module named 'pandas'",
     "output_type": "error",
     "traceback": [
      "\u001b[1;31m---------------------------------------------------------------------------\u001b[0m",
      "\u001b[1;31mModuleNotFoundError\u001b[0m                       Traceback (most recent call last)",
      "\u001b[1;32m<ipython-input-1-da79e99c361c>\u001b[0m in \u001b[0;36m<module>\u001b[1;34m\u001b[0m\n\u001b[1;32m----> 1\u001b[1;33m \u001b[1;32mimport\u001b[0m \u001b[0mpandas\u001b[0m \u001b[1;32mas\u001b[0m \u001b[0mpd\u001b[0m\u001b[1;33m\u001b[0m\u001b[1;33m\u001b[0m\u001b[0m\n\u001b[0m\u001b[0;32m      2\u001b[0m \u001b[1;33m\u001b[0m\u001b[0m\n\u001b[0;32m      3\u001b[0m \u001b[0mfilename\u001b[0m \u001b[1;33m=\u001b[0m \u001b[1;34m'air_passengers.feather'\u001b[0m\u001b[1;33m\u001b[0m\u001b[1;33m\u001b[0m\u001b[0m\n\u001b[0;32m      4\u001b[0m \u001b[0mread_df\u001b[0m \u001b[1;33m=\u001b[0m \u001b[0mpd\u001b[0m\u001b[1;33m.\u001b[0m\u001b[0mread_feather\u001b[0m\u001b[1;33m(\u001b[0m\u001b[0mfilename\u001b[0m\u001b[1;33m)\u001b[0m\u001b[1;33m\u001b[0m\u001b[1;33m\u001b[0m\u001b[0m\n\u001b[0;32m      5\u001b[0m \u001b[0mprint\u001b[0m\u001b[1;33m(\u001b[0m\u001b[0mread_df\u001b[0m\u001b[1;33m)\u001b[0m\u001b[1;33m\u001b[0m\u001b[1;33m\u001b[0m\u001b[0m\n",
      "\u001b[1;31mModuleNotFoundError\u001b[0m: No module named 'pandas'"
     ]
    }
   ],
   "source": [
    "import pandas as pd\n",
    "\n",
    "filename = 'air_passengers.feather'\n",
    "read_df = pd.read_feather(filename)\n",
    "print(read_df)"
   ]
  },
  {
   "cell_type": "code",
   "execution_count": 2,
   "metadata": {},
   "outputs": [
    {
     "name": "stdout",
     "output_type": "stream",
     "text": [
      "\n",
      "Please wait a moment while I gather a list of all available modules...\n",
      "\n"
     ]
    },
    {
     "name": "stderr",
     "output_type": "stream",
     "text": [
      "C:\\Users\\jwilliams\\Anaconda3\\envs\\tf\\lib\\site-packages\\IPython\\kernel\\__init__.py:13: ShimWarning: The `IPython.kernel` package has been deprecated since IPython 4.0.You should import from ipykernel or jupyter_client instead.\n",
      "  \"You should import from ipykernel or jupyter_client instead.\", ShimWarning)\n",
      "C:\\Users\\jwilliams\\Anaconda3\\envs\\tf\\lib\\site-packages\\nltk\\app\\__init__.py:46: UserWarning: nltk.app.wordfreq not loaded (requires the matplotlib library).\n",
      "  \"nltk.app.wordfreq not loaded \" \"(requires the matplotlib library).\"\n",
      "C:\\Users\\jwilliams\\Anaconda3\\envs\\tf\\lib\\site-packages\\nltk\\twitter\\__init__.py:22: UserWarning: The twython library has not been installed. Some functionality from the twitter package will not be available.\n",
      "  \"The twython library has not been installed. \"\n",
      "C:\\Users\\jwilliams\\Anaconda3\\envs\\tf\\lib\\pkgutil.py:107: VisibleDeprecationWarning: zmq.eventloop.minitornado is deprecated in pyzmq 14.0 and will be removed.\n",
      "    Install tornado itself to use zmq with the tornado IOLoop.\n",
      "    \n",
      "  yield from walk_packages(path, info.name+'.', onerror)\n"
     ]
    },
    {
     "name": "stdout",
     "output_type": "stream",
     "text": [
      "IPython             brain_numpy_core_umath locale              socketserver\n",
      "OpenSSL             brain_numpy_ndarray logging             socks\n",
      "PIL                 brain_numpy_random_mtrand lunr                sockshandler\n",
      "PyQt5               brain_numpy_utils   lzma                sortedcontainers\n",
      "__future__          brain_pkg_resources macpath             sphinx\n",
      "_abc                brain_pytest        mailbox             spyder\n",
      "_ast                brain_qt            mailcap             spyder_kernels\n",
      "_asyncio            brain_random        markdown            sqlite3\n",
      "_bisect             brain_re            markupsafe          sre_compile\n",
      "_black_version      brain_responses     marshal             sre_constants\n",
      "_blake2             brain_scipy_signal  material            sre_parse\n",
      "_bootlocale         brain_six           materialx           ssl\n",
      "_bz2                brain_sqlalchemy    math                sspi\n",
      "_cffi_backend       brain_ssl           mccabe              sspicon\n",
      "_codecs             brain_subprocess    mimetypes           stat\n",
      "_codecs_cn          brain_threading     mistune             statistics\n",
      "_codecs_hk          brain_type          mkdocs              storemagic\n",
      "_codecs_iso2022     brain_typing        mkdocs_minify_plugin string\n",
      "_codecs_jp          brain_uuid          mmap                stringprep\n",
      "_codecs_kr          brotli              mmapfile            struct\n",
      "_codecs_tw          builtins            mmsystem            subprocess\n",
      "_collections        bz2                 modulefinder        sunau\n",
      "_collections_abc    cProfile            msilib              symbol\n",
      "_compat_pickle      cached_property     msvcrt              sympyprinting\n",
      "_compression        cachetools          multidict           symtable\n",
      "_contextvars        calendar            multiprocessing     sys\n",
      "_csv                certifi             mxnet               sysconfig\n",
      "_ctypes             cffi                mypy_extensions     tabnanny\n",
      "_ctypes_test        cgi                 nacl                tarfile\n",
      "_datetime           cgitb               nbclient            telnetlib\n",
      "_decimal            chardet             nbconvert           tempfile\n",
      "_distutils_hack     chunk               nbformat            tensorboard\n",
      "_dummy_thread       click               nest_asyncio        tensorboard_plugin_wit\n",
      "_elementtree        cloudpickle         netbios             tensorflow\n",
      "_functools          cmath               netrc               tensorflow_core\n",
      "_hashlib            cmd                 networkx            tensorflow_estimator\n",
      "_heapq              code                nltk                termcolor\n",
      "_imp                codecs              nntplib             test\n",
      "_io                 codeop              nt                  testpath\n",
      "_json               collections         ntpath              tests\n",
      "_locale             colorama            ntsecuritycon       text_unidecode\n",
      "_lsprof             colorsys            nturl2path          textdistance\n",
      "_lzma               commctrl            numbers             textwrap\n",
      "_markupbase         compileall          numpy               this\n",
      "_md5                concurrent          numpydoc            threading\n",
      "_msi                configparser        oauthlib            three_merge\n",
      "_multibytecodec     contextlib          odbc                time\n",
      "_multiprocessing    contextvars         olefile             timeit\n",
      "_opcode             cookiecutter        onnx                timer\n",
      "_operator           copy                opcode              tinycss\n",
      "_osx_support        copyreg             operator            tkinter\n",
      "_overlapped         crypt               opt_einsum          token\n",
      "_pickle             cryptography        optparse            tokenize\n",
      "_py_abc             csv                 os                  toml\n",
      "_pydecimal          ctypes              packaging           tornado\n",
      "_pyio               curses              pandocfilters       tqdm\n",
      "_pyrsistent_version cv2                 paramiko            trace\n",
      "_queue              cythonmagic         parser              traceback\n",
      "_random             dataclasses         parso               tracemalloc\n",
      "_sha1               datetime            past                traitlets\n",
      "_sha256             dateutil            pasta               tty\n",
      "_sha3               dbi                 pathlib             turtle\n",
      "_sha512             dbm                 pathspec            turtledemo\n",
      "_signal             dde                 pdb                 typed_ast\n",
      "_sitebuiltins       decimal             perfmon             types\n",
      "_socket             decorator           pexpect             typing\n",
      "_sqlite3            defusedxml          pickle              typing_extensions\n",
      "_sre                diff_match_patch    pickleshare         ujson\n",
      "_ssl                difflib             pickletools         unicodedata\n",
      "_stat               dis                 pip                 unidecode\n",
      "_string             distutils           pipes               unittest\n",
      "_strptime           dmlc_tracker        pkg_resources       urllib\n",
      "_struct             doctest             pkgutil             urllib3\n",
      "_symtable           docutils            platform            uu\n",
      "_testbuffer         dummy_threading     plistlib            uuid\n",
      "_testcapi           easy_install        pluggy              venv\n",
      "_testconsole        email               poplib              warnings\n",
      "_testimportmultiple encodings           posixpath           watchdog\n",
      "_testmultiphase     ensurepip           poyo                wave\n",
      "_thread             entrypoints         pprint              wcwidth\n",
      "_threading_local    enum                profile             weakref\n",
      "_tkinter            errno               prompt_toolkit      webbrowser\n",
      "_tracemalloc        faulthandler        pstats              webencodings\n",
      "_warnings           filecmp             psutil              werkzeug\n",
      "_weakref            fileinput           pty                 wheel\n",
      "_weakrefset         flake8              ptyprocess          whichcraft\n",
      "_win32sysloader     flask               pvectorc            win2kras\n",
      "_winapi             flask_googlemaps    py_compile          win32api\n",
      "_winxptheme         fnmatch             pyasn1              win32clipboard\n",
      "_yaml               formatter           pyasn1_modules      win32com\n",
      "abc                 fractions           pyclbr              win32con\n",
      "absl                ftplib              pycodestyle         win32console\n",
      "adodbapi            functools           pycparser           win32cred\n",
      "afxres              future              pydoc               win32crypt\n",
      "aifc                gast                pydoc_data          win32cryptcon\n",
      "aiohttp             gc                  pydocstyle          win32ctypes\n",
      "alabaster           generator           pyexpat             win32event\n",
      "antigravity         genericpath         pyflakes            win32evtlog\n",
      "appdirs             geographiclib       pygments            win32evtlogutil\n",
      "argh                geopy               pylint              win32file\n",
      "argparse            getopt              pyls                win32gui\n",
      "array               getpass             pyls_black          win32gui_struct\n",
      "arrow               gettext             pyls_jsonrpc        win32help\n",
      "ast                 glob                pyls_spyder         win32inet\n",
      "astor               google_auth_oauthlib pymdownx            win32inetcon\n",
      "astroid             googlemaps          pyparsing           win32job\n",
      "async_generator     graphviz            pyreadline          win32lz\n",
      "async_timeout       grpc                pyrsistent          win32net\n",
      "asynchat            gzip                pythoncom           win32netcon\n",
      "asyncio             h5py                pytz                win32pdh\n",
      "asyncore            hashlib             pywin               win32pdhquery\n",
      "atexit              heapq               pywin32_bootstrap   win32pdhutil\n",
      "atomicwrites        hmac                pywin32_testutil    win32pipe\n",
      "attr                html                pywintypes          win32print\n",
      "audioop             htmlmin             qdarkstyle          win32process\n",
      "autopep8            http                qstylizer           win32profile\n",
      "autoreload          idlelib             qtawesome           win32ras\n"
     ]
    },
    {
     "name": "stdout",
     "output_type": "stream",
     "text": [
      "babel               idna                qtconsole           win32rcparser\n",
      "backcall            imagesize           qtpy                win32security\n",
      "backports           imaplib             queue               win32service\n",
      "base64              imghdr              quopri              win32serviceutil\n",
      "bcrypt              imp                 random              win32timezone\n",
      "bdb                 importlib           rasutil             win32trace\n",
      "binaryornot         importlib_metadata  re                  win32traceutil\n",
      "binascii            inflection          readline            win32transaction\n",
      "binhex              inspect             regcheck            win32ts\n",
      "bisect              intervaltree        regex               win32ui\n",
      "black               io                  regutil             win32uiole\n",
      "blackd              ipaddress           reprlib             win32verstamp\n",
      "bleach              ipykernel           requests            win32wnet\n",
      "blib2to3            ipykernel_launcher  requests_oauthlib   win_inet_pton\n",
      "blinker             ipython_genutils    rlcompleter         wincertstore\n",
      "bokeh               isapi               rmagic              winerror\n",
      "brain_argparse      isort               rope                winioctlcon\n",
      "brain_attrs         itertools           rsa                 winnt\n",
      "brain_boto3         itsdangerous        rtree               winperf\n",
      "brain_builtin_inference jedi                runpy               winreg\n",
      "brain_collections   jinja2              sched               winsound\n",
      "brain_crypt         jinja2_time         scipy               winxpgui\n",
      "brain_curses        joblib              secrets             winxptheme\n",
      "brain_dataclasses   jsmin               select              wrapt\n",
      "brain_dateutil      json                selectors           wsgiref\n",
      "brain_fstrings      jsonschema          servicemanager      xdrlib\n",
      "brain_functools     jupyter             setuptools          xml\n",
      "brain_gi            jupyter_client      shelve              xmlrpc\n",
      "brain_hashlib       jupyter_core        shlex               xxlimited\n",
      "brain_http          jupyterlab_pygments shutil              xxsubtype\n",
      "brain_hypothesis    jwt                 signal              yaml\n",
      "brain_io            keras_applications  sipconfig           yapf\n",
      "brain_mechanize     keras_preprocessing sipdistutils        yapftests\n",
      "brain_multiprocessing keyring             site                yarl\n",
      "brain_namedtuple_enum keyword             six                 zipapp\n",
      "brain_nose          lazy_object_proxy   slugify             zipfile\n",
      "brain_numpy_core_fromnumeric lib2to3             smtpd               zipimport\n",
      "brain_numpy_core_function_base libfuturize         smtplib             zipp\n",
      "brain_numpy_core_multiarray libpasteurize       sndhdr              zlib\n",
      "brain_numpy_core_numeric linecache           snowballstemmer     zmq\n",
      "brain_numpy_core_numerictypes livereload          socket              \n",
      "\n",
      "Enter any module name to get more help.  Or, type \"modules spam\" to search\n",
      "for modules whose name or summary contain the string \"spam\".\n",
      "\n"
     ]
    }
   ],
   "source": [
    "help ('modules')"
   ]
  },
  {
   "cell_type": "code",
   "execution_count": 5,
   "metadata": {},
   "outputs": [
    {
     "name": "stderr",
     "output_type": "stream",
     "text": [
      "Traceback (most recent call last):\n",
      "  File \"C:\\Users\\jwilliams\\Anaconda3\\Scripts\\jupyter-script.py\", line 10, in <module>\n",
      "    sys.exit(main())\n",
      "  File \"C:\\Users\\jwilliams\\Anaconda3\\lib\\site-packages\\jupyter_core\\command.py\", line 247, in main\n",
      "    command = _jupyter_abspath(subcommand)\n",
      "  File \"C:\\Users\\jwilliams\\Anaconda3\\lib\\site-packages\\jupyter_core\\command.py\", line 133, in _jupyter_abspath\n",
      "    raise Exception(\n",
      "Exception: Jupyter command `jupyter-kernalspec` not found.\n"
     ]
    }
   ],
   "source": [
    "!jupyter kernalspec list --json"
   ]
  },
  {
   "cell_type": "code",
   "execution_count": 7,
   "metadata": {},
   "outputs": [
    {
     "name": "stderr",
     "output_type": "stream",
     "text": [
      "'which' is not recognized as an internal or external command,\n",
      "operable program or batch file.\n"
     ]
    }
   ],
   "source": [
    "!which jupyter"
   ]
  },
  {
   "cell_type": "code",
   "execution_count": null,
   "metadata": {},
   "outputs": [],
   "source": []
  }
 ],
 "metadata": {
  "kernelspec": {
   "display_name": "Python 3",
   "language": "python",
   "name": "python3"
  },
  "language_info": {
   "codemirror_mode": {
    "name": "ipython",
    "version": 3
   },
   "file_extension": ".py",
   "mimetype": "text/x-python",
   "name": "python",
   "nbconvert_exporter": "python",
   "pygments_lexer": "ipython3",
   "version": "3.7.10"
  }
 },
 "nbformat": 4,
 "nbformat_minor": 4
}
