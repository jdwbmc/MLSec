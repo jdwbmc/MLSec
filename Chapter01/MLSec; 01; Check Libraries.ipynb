{
 "cells": [
  {
   "cell_type": "markdown",
   "metadata": {},
   "source": [
    "# Verifying the Library Versions\n",
    "You must have the correct library versions installed on your system or some of the code examples won't work:\n",
    "<ul>\n",
    "<li>Pandas >= 1.1.3</li>\n",
    "<li>NumPy >= 1.18.5</li>\n",
    "<li>Scikit-learn >= 0.23.1</li>\n",
    "</ul>"
   ]
  },
  {
   "cell_type": "code",
   "execution_count": 1,
   "metadata": {},
   "outputs": [
    {
     "name": "stdout",
     "output_type": "stream",
     "text": [
      "Pandas Version:  # packages in environment at C:\\Users\\John\\anaconda3:\n",
      "#\n",
      "# Name                    Version                   Build  Channel\n",
      "pandas                    1.1.3            py38ha925a31_0  \n",
      " \n",
      "\n",
      "NumPy Version:  # packages in environment at C:\\Users\\John\\anaconda3:\n",
      "#\n",
      "# Name                    Version                   Build  Channel\n",
      "numpy                     1.18.5           py38h6530119_0  \n",
      " \n",
      "\n",
      "Scikit-learn Version:  # packages in environment at C:\\Users\\John\\anaconda3:\n",
      "#\n",
      "# Name                    Version                   Build  Channel\n",
      "scikit-learn              0.23.1           py38h25d0782_0  \n",
      " \n",
      "\n"
     ]
    }
   ],
   "source": [
    "import os\n",
    "pandasver = os.popen('conda list pandas$').read()\n",
    "numpyver = os.popen('conda list numpy$').read()\n",
    "sklearnver = os.popen('conda list scikit-learn$').read()\n",
    "\n",
    "print('Pandas Version: ', pandasver, '\\n')\n",
    "print('NumPy Version: ', numpyver, '\\n')\n",
    "print('Scikit-learn Version: ', sklearnver, '\\n')"
   ]
  },
  {
   "cell_type": "code",
   "execution_count": null,
   "metadata": {},
   "outputs": [],
   "source": []
  }
 ],
 "metadata": {
  "kernelspec": {
   "display_name": "Python 3",
   "language": "python",
   "name": "python3"
  },
  "language_info": {
   "codemirror_mode": {
    "name": "ipython",
    "version": 3
   },
   "file_extension": ".py",
   "mimetype": "text/x-python",
   "name": "python",
   "nbconvert_exporter": "python",
   "pygments_lexer": "ipython3",
   "version": "3.8.3"
  }
 },
 "nbformat": 4,
 "nbformat_minor": 4
}
