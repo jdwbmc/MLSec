{
 "cells": [
  {
   "cell_type": "markdown",
   "metadata": {},
   "source": [
    "# 5.4\tCreating Real Time Defenses\n",
    "## 5.4.1\tConsidering basic coding in Python\n",
    "A subprocess is one that is called from the current process to perform a specific task. You use subproceses for all sorts of things, like getting the contents of the current directory or opening a `.zip` file. The first cell below shows the unsafe way of doing things, while the second cell is safer. The third cell shows an easier to use and safer, but less flexible method."
   ]
  },
  {
   "cell_type": "code",
   "execution_count": 39,
   "metadata": {},
   "outputs": [
    {
     "name": "stdout",
     "output_type": "stream",
     "text": [
      " Volume in drive C is Windows 7\r\n",
      " Volume Serial Number is 2405-DAA8\r\n",
      "\r\n",
      " Directory of C:\\Users\\John\\MLSec\\Chapter05\r\n",
      "\r\n",
      "04/20/2021  03:48 PM    <DIR>          .\r\n",
      "04/20/2021  03:48 PM    <DIR>          ..\r\n",
      "04/20/2021  03:04 PM    <DIR>          .ipynb_checkpoints\r\n",
      "04/20/2021  03:48 PM             3,121 MLSec; 05; Real Time Defenses.ipynb\r\n",
      "               1 File(s)          3,121 bytes\r\n",
      "               3 Dir(s)  259,745,255,424 bytes free\r\n",
      "\n"
     ]
    }
   ],
   "source": [
    "from subprocess import check_output\n",
    "\n",
    "MyDir = check_output(\"dir\", shell=True)\n",
    "print(MyDir.decode('ascii'))"
   ]
  },
  {
   "cell_type": "code",
   "execution_count": 41,
   "metadata": {},
   "outputs": [
    {
     "name": "stdout",
     "output_type": "stream",
     "text": [
      " Volume in drive C is Windows 7\r\n",
      " Volume Serial Number is 2405-DAA8\r\n",
      "\r\n",
      " Directory of C:\\Users\\John\\MLSec\\Chapter05\r\n",
      "\r\n",
      "04/20/2021  03:50 PM             3,307 MLSec; 05; Real Time Defenses.ipynb\r\n",
      "               1 File(s)          3,307 bytes\r\n",
      "               0 Dir(s)  259,745,181,696 bytes free\r\n",
      "\n"
     ]
    }
   ],
   "source": [
    "from subprocess import check_output\n",
    "\n",
    "MyDir = check_output(['cmd','/c','dir'])\n",
    "print(MyDir.decode('ascii'))"
   ]
  },
  {
   "cell_type": "code",
   "execution_count": 36,
   "metadata": {},
   "outputs": [
    {
     "name": "stdout",
     "output_type": "stream",
     "text": [
      "['.ipynb_checkpoints', 'MLSec; 05; Real Time Defenses.ipynb']\n"
     ]
    }
   ],
   "source": [
    "from os import listdir\n",
    "from os import getcwd\n",
    "\n",
    "MyDir = listdir(getcwd())\n",
    "print(MyDir)"
   ]
  },
  {
   "cell_type": "markdown",
   "metadata": {},
   "source": [
    "## 5.4.2\tWorking with Flask\n",
    "Flask is a Python framework used for web applications. You could make your machine learning application available through a web API using it. However, whenever you work with the web, you could expose your network to problems such as Cross-Site Scripting (XSS). The following examples show how to avoid this problem."
   ]
  },
  {
   "cell_type": "code",
   "execution_count": 3,
   "metadata": {},
   "outputs": [],
   "source": [
    "from flask import Flask, request\n",
    "\n",
    "app = Flask(__name__)\n",
    "\n",
    "@app.route(\"/\")\n",
    "def say_hello():\n",
    "    your_name = request.args.get('name')\n",
    "    return \"Hello %s\" % your_name"
   ]
  },
  {
   "cell_type": "markdown",
   "metadata": {},
   "source": [
    "**Click the stop button to stop the server from running.** Otherwise, the server will continue to run in the background and you won't be able to run the rest of the example. To test this server out with a script, type `http://127.0.0.1:5000/?name=<script>alert(1)</script>` in a new browser tab and press Enter."
   ]
  },
  {
   "cell_type": "code",
   "execution_count": 4,
   "metadata": {},
   "outputs": [
    {
     "name": "stdout",
     "output_type": "stream",
     "text": [
      " * Serving Flask app \"__main__\" (lazy loading)\n",
      " * Environment: production\n",
      "   WARNING: This is a development server. Do not use it in a production deployment.\n",
      "   Use a production WSGI server instead.\n",
      " * Debug mode: off\n"
     ]
    },
    {
     "name": "stderr",
     "output_type": "stream",
     "text": [
      " * Running on http://127.0.0.1:5000/ (Press CTRL+C to quit)\n",
      "127.0.0.1 - - [20/Apr/2021 16:50:38] \"\u001b[37mGET /?name=John HTTP/1.1\u001b[0m\" 200 -\n"
     ]
    }
   ],
   "source": [
    "app.run()"
   ]
  },
  {
   "cell_type": "code",
   "execution_count": 8,
   "metadata": {},
   "outputs": [],
   "source": [
    "from flask import Flask, request, escape\n",
    "\n",
    "app = Flask(__name__)\n",
    "\n",
    "@app.route(\"/\")\n",
    "def say_hello():\n",
    "    your_name = request.args.get('name')\n",
    "    return \"Hello %s\" % escape(your_name)"
   ]
  },
  {
   "cell_type": "code",
   "execution_count": 9,
   "metadata": {},
   "outputs": [
    {
     "name": "stdout",
     "output_type": "stream",
     "text": [
      " * Serving Flask app \"__main__\" (lazy loading)\n",
      " * Environment: production\n",
      "   WARNING: This is a development server. Do not use it in a production deployment.\n",
      "   Use a production WSGI server instead.\n",
      " * Debug mode: off\n"
     ]
    },
    {
     "name": "stderr",
     "output_type": "stream",
     "text": [
      " * Running on http://127.0.0.1:5000/ (Press CTRL+C to quit)\n",
      "127.0.0.1 - - [20/Apr/2021 16:56:18] \"\u001b[37mGET /?name=John HTTP/1.1\u001b[0m\" 200 -\n",
      "127.0.0.1 - - [20/Apr/2021 16:56:27] \"\u001b[37mGET /?name=%3Cscript%3Ealert(1)%3C/script%3E HTTP/1.1\u001b[0m\" 200 -\n"
     ]
    }
   ],
   "source": [
    "app.run()"
   ]
  },
  {
   "cell_type": "code",
   "execution_count": null,
   "metadata": {},
   "outputs": [],
   "source": []
  }
 ],
 "metadata": {
  "kernelspec": {
   "display_name": "Python 3",
   "language": "python",
   "name": "python3"
  },
  "language_info": {
   "codemirror_mode": {
    "name": "ipython",
    "version": 3
   },
   "file_extension": ".py",
   "mimetype": "text/x-python",
   "name": "python",
   "nbconvert_exporter": "python",
   "pygments_lexer": "ipython3",
   "version": "3.8.3"
  }
 },
 "nbformat": 4,
 "nbformat_minor": 4
}
